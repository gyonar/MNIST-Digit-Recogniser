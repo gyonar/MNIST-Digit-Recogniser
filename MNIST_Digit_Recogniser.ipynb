{
  "nbformat": 4,
  "nbformat_minor": 0,
  "metadata": {
    "colab": {
      "provenance": []
    },
    "kernelspec": {
      "name": "python3",
      "display_name": "Python 3"
    },
    "language_info": {
      "name": "python"
    }
  },
  "cells": [
    {
      "cell_type": "code",
      "execution_count": 23,
      "metadata": {
        "id": "Cd_fcrI-z0fQ"
      },
      "outputs": [],
      "source": [
        "import numpy as np\n",
        "import pandas as pd\n",
        "import matplotlib.pyplot as plt"
      ]
    },
    {
      "cell_type": "code",
      "source": [
        "data = pd.read_csv('/content/drive/MyDrive/Colab Notebooks/train.csv')"
      ],
      "metadata": {
        "id": "jvP9mw1k3JL5"
      },
      "execution_count": 24,
      "outputs": []
    },
    {
      "cell_type": "code",
      "source": [
        "data = np.array(data)\n",
        "m, n = data.shape\n",
        "np.random.shuffle(data)"
      ],
      "metadata": {
        "id": "-yzRiaKx3J5i"
      },
      "execution_count": 25,
      "outputs": []
    },
    {
      "cell_type": "code",
      "source": [
        "data.shape"
      ],
      "metadata": {
        "colab": {
          "base_uri": "https://localhost:8080/"
        },
        "id": "4T7jP1sS8qtk",
        "outputId": "08630a29-e707-406c-d8df-27863a61db9e"
      },
      "execution_count": 26,
      "outputs": [
        {
          "output_type": "execute_result",
          "data": {
            "text/plain": [
              "(42000, 785)"
            ]
          },
          "metadata": {},
          "execution_count": 26
        }
      ]
    },
    {
      "cell_type": "code",
      "source": [
        "data_val = data[0:1000].T\n",
        "Y_val = data_val[0]\n",
        "X_val = data_val[1:n]\n",
        "X_val = X_val / 255."
      ],
      "metadata": {
        "id": "VUd5nqa38Ib9"
      },
      "execution_count": 27,
      "outputs": []
    },
    {
      "cell_type": "code",
      "source": [
        "data_train = data[1000:m].T\n",
        "Y_train = data_train[0]\n",
        "X_train = data_train[1:n]\n",
        "X_train = X_train / 255.\n",
        "_,m_train = X_train.shape"
      ],
      "metadata": {
        "id": "yWGDnZlF9Nqt"
      },
      "execution_count": 28,
      "outputs": []
    },
    {
      "cell_type": "code",
      "source": [
        "#initialising paramaeters\n",
        "def init_params():\n",
        "    W1 = np.random.rand(10, 784) - 0.5\n",
        "    b1 = np.random.rand(10, 1) - 0.5\n",
        "    W2 = np.random.rand(10, 10) - 0.5\n",
        "    b2 = np.random.rand(10, 1) - 0.5\n",
        "    return W1, b1, W2, b2"
      ],
      "metadata": {
        "id": "5Jl_x61r9jt1"
      },
      "execution_count": 29,
      "outputs": []
    },
    {
      "cell_type": "code",
      "source": [
        "# ReLU\n",
        "def ReLU(Z):\n",
        "    return np.maximum(Z, 0)\n",
        "\n",
        "def softmax(Z):\n",
        "    A = np.exp(Z) / sum(np.exp(Z))\n",
        "    return A"
      ],
      "metadata": {
        "id": "pWUobec7-G7S"
      },
      "execution_count": 30,
      "outputs": []
    },
    {
      "cell_type": "code",
      "source": [
        "def forward_prop(W1, b1, W2, b2, X):\n",
        "    Z1 = W1.dot(X) + b1\n",
        "    A1 = ReLU(Z1)\n",
        "    Z2 = W2.dot(A1) + b2\n",
        "    A2 = softmax(Z2)\n",
        "    return Z1, A1, Z2, A2"
      ],
      "metadata": {
        "id": "_pupmr3W-exB"
      },
      "execution_count": 31,
      "outputs": []
    },
    {
      "cell_type": "code",
      "source": [
        "def one_hot(Y):\n",
        "    one_hot_Y = np.zeros((Y.size, Y.max() + 1))\n",
        "    one_hot_Y[np.arange(Y.size), Y] = 1\n",
        "    one_hot_Y = one_hot_Y.T\n",
        "    return one_hot_Y"
      ],
      "metadata": {
        "id": "bCUbr9OS-wZe"
      },
      "execution_count": 32,
      "outputs": []
    },
    {
      "cell_type": "code",
      "source": [
        "def ReLU_deriv(Z):\n",
        "    return Z > 0"
      ],
      "metadata": {
        "id": "wGUm_twU_RgN"
      },
      "execution_count": 33,
      "outputs": []
    },
    {
      "cell_type": "code",
      "source": [
        "def backward_prop(Z1, A1, Z2, A2, W1, W2, X, Y):\n",
        "    one_hot_Y = one_hot(Y)\n",
        "    dZ2 = A2 - one_hot_Y\n",
        "    dW2 = 1 / m * dZ2.dot(A1.T)\n",
        "    db2 = 1 / m * np.sum(dZ2)\n",
        "    dZ1 = W2.T.dot(dZ2) * ReLU_deriv(Z1)\n",
        "    dW1 = 1 / m * dZ1.dot(X.T)\n",
        "    db1 = 1 / m * np.sum(dZ1)\n",
        "    return dW1, db1, dW2, db2"
      ],
      "metadata": {
        "id": "OwrTkAOm_ObQ"
      },
      "execution_count": 34,
      "outputs": []
    },
    {
      "cell_type": "code",
      "source": [
        "def update_params(W1, b1, W2, b2, dW1, db1, dW2, db2, alpha):\n",
        "    W1 = W1 - alpha * dW1\n",
        "    b1 = b1 - alpha * db1\n",
        "    W2 = W2 - alpha * dW2\n",
        "    b2 = b2 - alpha * db2\n",
        "    return W1, b1, W2, b2"
      ],
      "metadata": {
        "id": "ZkjlqYo9_y7-"
      },
      "execution_count": 35,
      "outputs": []
    },
    {
      "cell_type": "code",
      "source": [
        "def get_predictions(A2):\n",
        "    return np.argmax(A2, 0)\n",
        "\n",
        "def get_accuracy(predictions, Y):\n",
        "    print(predictions, Y)\n",
        "    return np.sum(predictions == Y) / Y.size"
      ],
      "metadata": {
        "id": "0wCufBj1AFiQ"
      },
      "execution_count": 36,
      "outputs": []
    },
    {
      "cell_type": "code",
      "source": [
        "def gradient_descent(X, Y, alpha, iterations):\n",
        "    W1, b1, W2, b2 = init_params()\n",
        "    for i in range(iterations):\n",
        "        Z1, A1, Z2, A2 = forward_prop(W1, b1, W2, b2, X)\n",
        "        dW1, db1, dW2, db2 = backward_prop(Z1, A1, Z2, A2, W1, W2, X, Y)\n",
        "        W1, b1, W2, b2 = update_params(W1, b1, W2, b2, dW1, db1, dW2, db2, alpha)\n",
        "        if i % 10 == 0:\n",
        "            print(\"Iteration: \", i)\n",
        "            predictions = get_predictions(A2)\n",
        "            print(get_accuracy(predictions, Y))\n",
        "    return W1, b1, W2, b2"
      ],
      "metadata": {
        "id": "rq6oyWqy_7A-"
      },
      "execution_count": 37,
      "outputs": []
    },
    {
      "cell_type": "code",
      "source": [
        "W1, b1, W2, b2 = gradient_descent(X_train, Y_train, 0.10, 500)"
      ],
      "metadata": {
        "colab": {
          "base_uri": "https://localhost:8080/"
        },
        "id": "27G-WrZpAJQ3",
        "outputId": "a788b3e6-57a5-46cb-80a9-ca0c3faa07d1"
      },
      "execution_count": 38,
      "outputs": [
        {
          "output_type": "stream",
          "name": "stdout",
          "text": [
            "Iteration:  0\n",
            "[5 5 5 ... 7 6 0] [3 1 3 ... 1 8 6]\n",
            "0.1578048780487805\n",
            "Iteration:  10\n",
            "[7 5 2 ... 1 4 6] [3 1 3 ... 1 8 6]\n",
            "0.23295121951219513\n",
            "Iteration:  20\n",
            "[7 5 0 ... 1 4 6] [3 1 3 ... 1 8 6]\n",
            "0.31053658536585366\n",
            "Iteration:  30\n",
            "[7 1 0 ... 1 4 6] [3 1 3 ... 1 8 6]\n",
            "0.37621951219512195\n",
            "Iteration:  40\n",
            "[7 1 0 ... 1 4 6] [3 1 3 ... 1 8 6]\n",
            "0.4286829268292683\n",
            "Iteration:  50\n",
            "[7 1 3 ... 1 5 6] [3 1 3 ... 1 8 6]\n",
            "0.47673170731707315\n",
            "Iteration:  60\n",
            "[7 1 3 ... 1 5 6] [3 1 3 ... 1 8 6]\n",
            "0.5269756097560976\n",
            "Iteration:  70\n",
            "[5 1 3 ... 1 5 6] [3 1 3 ... 1 8 6]\n",
            "0.5613414634146342\n",
            "Iteration:  80\n",
            "[3 1 3 ... 1 5 6] [3 1 3 ... 1 8 6]\n",
            "0.5898048780487805\n",
            "Iteration:  90\n",
            "[3 1 3 ... 1 5 6] [3 1 3 ... 1 8 6]\n",
            "0.6118536585365854\n",
            "Iteration:  100\n",
            "[3 1 3 ... 1 5 6] [3 1 3 ... 1 8 6]\n",
            "0.6312682926829268\n",
            "Iteration:  110\n",
            "[3 3 3 ... 1 5 6] [3 1 3 ... 1 8 6]\n",
            "0.649829268292683\n",
            "Iteration:  120\n",
            "[3 3 3 ... 1 5 6] [3 1 3 ... 1 8 6]\n",
            "0.6663414634146342\n",
            "Iteration:  130\n",
            "[3 3 3 ... 1 5 6] [3 1 3 ... 1 8 6]\n",
            "0.6794878048780488\n",
            "Iteration:  140\n",
            "[3 3 3 ... 1 5 6] [3 1 3 ... 1 8 6]\n",
            "0.692390243902439\n",
            "Iteration:  150\n",
            "[3 3 3 ... 1 5 6] [3 1 3 ... 1 8 6]\n",
            "0.7027073170731707\n",
            "Iteration:  160\n",
            "[3 3 3 ... 1 5 6] [3 1 3 ... 1 8 6]\n",
            "0.7116097560975609\n",
            "Iteration:  170\n",
            "[3 3 3 ... 1 5 6] [3 1 3 ... 1 8 6]\n",
            "0.7200731707317073\n",
            "Iteration:  180\n",
            "[3 3 3 ... 1 5 6] [3 1 3 ... 1 8 6]\n",
            "0.7273170731707317\n",
            "Iteration:  190\n",
            "[3 3 3 ... 1 5 6] [3 1 3 ... 1 8 6]\n",
            "0.7347560975609756\n",
            "Iteration:  200\n",
            "[3 3 3 ... 1 5 6] [3 1 3 ... 1 8 6]\n",
            "0.7408780487804878\n",
            "Iteration:  210\n",
            "[3 3 3 ... 1 5 6] [3 1 3 ... 1 8 6]\n",
            "0.7466585365853659\n",
            "Iteration:  220\n",
            "[3 3 3 ... 1 5 6] [3 1 3 ... 1 8 6]\n",
            "0.7521707317073171\n",
            "Iteration:  230\n",
            "[3 3 3 ... 1 5 6] [3 1 3 ... 1 8 6]\n",
            "0.7570487804878049\n",
            "Iteration:  240\n",
            "[3 3 3 ... 1 5 6] [3 1 3 ... 1 8 6]\n",
            "0.7619512195121951\n",
            "Iteration:  250\n",
            "[3 3 3 ... 1 5 6] [3 1 3 ... 1 8 6]\n",
            "0.7668780487804878\n",
            "Iteration:  260\n",
            "[3 3 3 ... 1 5 6] [3 1 3 ... 1 8 6]\n",
            "0.7714878048780488\n",
            "Iteration:  270\n",
            "[3 3 3 ... 1 5 6] [3 1 3 ... 1 8 6]\n",
            "0.7753170731707317\n",
            "Iteration:  280\n",
            "[3 3 3 ... 1 5 6] [3 1 3 ... 1 8 6]\n",
            "0.7797317073170732\n",
            "Iteration:  290\n",
            "[3 3 3 ... 1 5 6] [3 1 3 ... 1 8 6]\n",
            "0.7830487804878049\n",
            "Iteration:  300\n",
            "[3 3 3 ... 1 5 6] [3 1 3 ... 1 8 6]\n",
            "0.7859756097560976\n",
            "Iteration:  310\n",
            "[3 3 3 ... 1 5 6] [3 1 3 ... 1 8 6]\n",
            "0.7891463414634147\n",
            "Iteration:  320\n",
            "[3 3 3 ... 1 5 6] [3 1 3 ... 1 8 6]\n",
            "0.7920243902439025\n",
            "Iteration:  330\n",
            "[3 3 3 ... 1 5 6] [3 1 3 ... 1 8 6]\n",
            "0.7953170731707317\n",
            "Iteration:  340\n",
            "[3 3 3 ... 1 5 6] [3 1 3 ... 1 8 6]\n",
            "0.7977560975609757\n",
            "Iteration:  350\n",
            "[3 3 3 ... 1 5 6] [3 1 3 ... 1 8 6]\n",
            "0.8003902439024391\n",
            "Iteration:  360\n",
            "[3 3 3 ... 1 5 6] [3 1 3 ... 1 8 6]\n",
            "0.8027317073170732\n",
            "Iteration:  370\n",
            "[3 3 3 ... 1 5 6] [3 1 3 ... 1 8 6]\n",
            "0.805439024390244\n",
            "Iteration:  380\n",
            "[3 3 3 ... 1 5 6] [3 1 3 ... 1 8 6]\n",
            "0.8081219512195122\n",
            "Iteration:  390\n",
            "[3 3 3 ... 1 5 6] [3 1 3 ... 1 8 6]\n",
            "0.8101707317073171\n",
            "Iteration:  400\n",
            "[3 3 3 ... 1 5 6] [3 1 3 ... 1 8 6]\n",
            "0.8121951219512196\n",
            "Iteration:  410\n",
            "[3 3 3 ... 1 5 6] [3 1 3 ... 1 8 6]\n",
            "0.8144634146341463\n",
            "Iteration:  420\n",
            "[3 3 3 ... 1 5 6] [3 1 3 ... 1 8 6]\n",
            "0.816390243902439\n",
            "Iteration:  430\n",
            "[3 3 3 ... 1 5 6] [3 1 3 ... 1 8 6]\n",
            "0.8182195121951219\n",
            "Iteration:  440\n",
            "[3 3 3 ... 1 5 6] [3 1 3 ... 1 8 6]\n",
            "0.8197073170731707\n",
            "Iteration:  450\n",
            "[3 3 3 ... 1 5 6] [3 1 3 ... 1 8 6]\n",
            "0.8220731707317073\n",
            "Iteration:  460\n",
            "[3 3 3 ... 1 5 6] [3 1 3 ... 1 8 6]\n",
            "0.8232682926829268\n",
            "Iteration:  470\n",
            "[3 3 3 ... 1 5 6] [3 1 3 ... 1 8 6]\n",
            "0.8247560975609756\n",
            "Iteration:  480\n",
            "[3 3 3 ... 1 5 6] [3 1 3 ... 1 8 6]\n",
            "0.8259024390243902\n",
            "Iteration:  490\n",
            "[3 3 3 ... 1 5 6] [3 1 3 ... 1 8 6]\n",
            "0.8274146341463414\n"
          ]
        }
      ]
    },
    {
      "cell_type": "code",
      "source": [
        "## Predictions\n",
        "\n",
        "def make_predictions(X, W1, b1, W2, b2):\n",
        "    _, _, _, A2 = forward_prop(W1, b1, W2, b2, X)\n",
        "    predictions = get_predictions(A2)\n",
        "    return predictions\n",
        "\n",
        "def test_prediction(index, W1, b1, W2, b2):\n",
        "    current_image = X_train[:, index, None]\n",
        "    prediction = make_predictions(X_train[:, index, None], W1, b1, W2, b2)\n",
        "    label = Y_train[index]\n",
        "    print(\"Prediction: \", prediction)\n",
        "    print(\"Label: \", label)\n",
        "\n",
        "    current_image = current_image.reshape((28, 28)) * 255\n",
        "    plt.gray()\n",
        "    plt.imshow(current_image, interpolation='nearest')\n",
        "    plt.show()"
      ],
      "metadata": {
        "id": "XDiqGrsCC2BF"
      },
      "execution_count": 39,
      "outputs": []
    },
    {
      "cell_type": "code",
      "source": [
        "test_prediction(12, W1, b1, W2, b2)\n",
        "test_prediction(25, W1, b1, W2, b2)\n"
      ],
      "metadata": {
        "colab": {
          "base_uri": "https://localhost:8080/",
          "height": 912
        },
        "id": "dg2U6CcUDEzi",
        "outputId": "ff8785b1-36ad-44a8-a43b-919cf202afb0"
      },
      "execution_count": 41,
      "outputs": [
        {
          "output_type": "stream",
          "name": "stdout",
          "text": [
            "Prediction:  [3]\n",
            "Label:  3\n"
          ]
        },
        {
          "output_type": "display_data",
          "data": {
            "text/plain": [
              "<Figure size 640x480 with 1 Axes>"
            ],
            "image/png": "[encoded data removed]"
          },
          "metadata": {}
        },
        {
          "output_type": "stream",
          "name": "stdout",
          "text": [
            "Prediction:  [3]\n",
            "Label:  8\n"
          ]
        },
        {
          "output_type": "display_data",
          "data": {
            "text/plain": [
              "<Figure size 640x480 with 1 Axes>"
            ],
            "image/png": "[encoded data removed]"
          },
          "metadata": {}
        }
      ]
    },
    {
      "cell_type": "code",
      "source": [
        "dev_predictions = make_predictions(X_val, W1, b1, W2, b2)\n",
        "get_accuracy(dev_predictions, Y_val)"
      ],
      "metadata": {
        "colab": {
          "base_uri": "https://localhost:8080/"
        },
        "id": "HUeOb8uGDLyO",
        "outputId": "2ceb79f6-b6f9-4c49-f049-baa5fa14d9c4"
      },
      "execution_count": 43,
      "outputs": [
        {
          "output_type": "stream",
          "name": "stdout",
          "text": [
            "[6 8 3 9 2 3 3 7 6 8 4 0 7 6 2 6 0 5 6 1 0 8 3 5 6 7 2 9 8 0 7 6 7 8 6 8 0\n",
            " 0 5 7 0 1 5 8 8 1 7 7 8 2 3 1 3 1 0 4 6 4 8 2 1 9 5 5 4 6 6 9 4 4 5 3 3 9\n",
            " 4 8 4 0 3 7 5 3 7 1 3 8 2 1 7 7 6 5 4 0 9 2 6 7 1 2 6 1 5 8 4 2 5 3 1 2 9\n",
            " 4 9 6 4 7 0 9 8 3 3 9 3 8 8 7 0 9 8 2 3 5 9 1 9 1 0 3 9 8 0 7 9 2 9 1 6 0\n",
            " 1 9 0 5 3 2 0 6 8 6 8 9 7 1 2 9 9 8 4 1 5 6 3 5 5 8 7 9 0 8 8 9 1 6 6 6 2\n",
            " 5 1 9 2 6 7 5 2 7 8 0 8 8 1 3 1 8 5 7 7 6 4 3 7 6 0 3 3 2 5 3 4 0 0 6 1 1\n",
            " 9 7 6 8 9 2 0 0 5 8 5 6 1 1 3 9 9 0 5 8 9 9 1 1 5 7 2 8 9 7 8 8 2 4 2 4 3\n",
            " 7 8 1 2 4 7 3 4 4 4 2 6 6 6 1 4 6 1 1 4 5 6 2 2 1 6 4 3 6 8 1 2 2 9 0 5 7\n",
            " 3 9 0 1 3 9 6 7 9 1 0 3 1 8 1 7 6 8 4 5 4 8 1 6 8 2 1 7 4 1 7 6 5 8 0 2 9\n",
            " 1 7 1 8 1 4 8 3 6 8 6 7 8 0 1 9 1 7 4 1 6 8 6 2 7 0 2 6 7 5 3 9 4 7 1 8 6\n",
            " 4 3 8 2 8 4 2 5 2 4 2 1 4 7 0 8 1 3 7 7 0 9 8 3 4 1 7 8 5 4 1 2 8 5 4 6 7\n",
            " 1 3 8 5 7 6 1 7 9 2 3 8 1 8 5 1 6 6 3 1 8 0 4 9 4 8 4 9 8 3 9 4 6 0 4 7 6\n",
            " 1 8 2 8 1 0 9 3 8 4 2 3 4 8 2 6 0 2 4 4 2 2 1 2 4 4 9 9 1 7 6 2 5 7 1 9 8\n",
            " 8 3 1 9 8 3 4 9 6 8 9 3 1 4 6 4 3 0 2 1 3 2 2 7 0 9 6 6 9 4 9 1 6 9 8 6 6\n",
            " 8 4 7 0 7 5 6 2 4 7 8 0 1 5 3 2 5 1 7 5 1 3 0 3 3 4 2 9 5 4 7 9 0 2 4 6 5\n",
            " 7 9 1 4 3 7 5 1 4 0 1 1 9 3 1 9 6 5 7 4 0 0 7 2 3 5 5 0 1 5 7 1 1 4 9 7 0\n",
            " 4 4 0 8 3 3 2 0 0 3 4 6 9 3 9 3 3 0 0 1 0 9 6 5 7 0 3 3 8 2 4 3 6 4 9 0 8\n",
            " 2 0 2 2 0 5 3 4 1 6 7 1 0 5 8 6 6 8 3 7 5 0 2 0 5 0 8 5 0 7 0 9 5 5 2 5 3\n",
            " 3 7 8 1 5 7 2 4 3 7 8 1 6 0 2 4 3 6 0 6 5 9 1 7 1 1 1 2 9 3 6 3 7 3 0 0 3\n",
            " 9 3 1 6 1 5 5 8 9 8 3 6 2 9 8 7 4 3 6 0 5 0 1 9 6 1 8 7 9 5 3 0 7 7 1 4 2\n",
            " 7 3 1 3 5 8 2 8 0 0 5 5 8 7 4 1 7 9 3 1 7 4 4 1 1 1 7 3 1 1 5 3 0 1 9 4 8\n",
            " 3 6 9 1 2 5 2 9 3 6 0 6 0 0 3 8 7 7 6 7 9 7 9 1 8 1 3 5 0 7 9 2 1 5 3 6 9\n",
            " 7 2 2 1 2 4 5 1 8 1 7 2 9 1 0 0 8 6 0 3 7 5 7 2 1 2 5 8 2 2 2 4 0 0 8 6 0\n",
            " 4 9 9 3 8 4 0 9 3 7 5 1 5 0 2 9 1 5 2 9 1 0 1 2 3 3 3 2 4 5 9 5 7 2 8 1 2\n",
            " 3 7 2 6 7 0 8 6 9 2 7 7 0 5 5 7 3 1 1 9 3 5 9 9 0 9 0 1 1 1 5 4 1 1 5 5 5\n",
            " 4 9 1 9 2 1 1 1 5 8 1 9 8 3 8 6 8 3 9 4 9 7 3 9 4 7 8 1 5 4 6 2 2 2 9 4 7\n",
            " 3 4 4 3 5 1 6 8 6 4 0 1 1 2 9 5 8 7 0 3 8 0 1 2 4 9 8 7 2 3 8 3 2 8 5 5 8\n",
            " 1] [6 8 3 9 2 3 8 7 6 8 4 0 7 6 2 6 0 5 6 1 0 8 3 5 6 7 6 9 9 0 7 6 7 8 6 8 0\n",
            " 0 3 7 0 1 5 8 8 1 7 7 8 2 5 1 8 1 0 4 6 4 8 8 1 9 5 5 4 6 6 9 4 4 5 8 3 9\n",
            " 5 3 4 0 3 7 5 3 7 1 3 8 2 1 7 7 6 5 4 0 9 2 6 7 1 6 6 1 5 8 4 2 5 3 1 2 5\n",
            " 4 9 6 4 7 0 9 3 3 3 9 3 5 8 7 6 9 8 2 3 0 4 1 7 1 0 3 9 6 0 7 9 2 7 1 6 0\n",
            " 1 9 0 5 5 2 0 6 8 6 8 9 9 1 2 9 9 8 4 1 5 6 5 5 5 8 8 9 0 8 3 9 1 6 6 6 2\n",
            " 3 1 9 2 6 7 3 2 7 5 0 8 8 1 3 3 8 8 7 7 6 4 3 5 6 0 5 3 5 5 3 4 0 0 6 1 1\n",
            " 4 7 6 8 9 8 0 0 5 8 5 6 1 1 3 9 9 0 5 8 9 7 1 1 5 7 8 4 3 9 8 8 2 4 2 4 5\n",
            " 7 8 1 2 4 7 3 4 6 4 9 6 6 6 1 4 6 1 1 4 5 6 2 2 1 6 4 3 6 8 1 2 2 9 0 5 7\n",
            " 3 4 0 1 3 9 6 7 9 1 6 3 1 8 1 7 6 8 4 5 4 8 1 6 3 2 1 7 4 1 7 6 5 8 0 8 9\n",
            " 1 7 1 8 1 4 8 3 6 8 6 7 8 0 1 9 1 7 4 1 6 8 6 2 7 0 2 6 7 3 5 9 4 7 1 8 6\n",
            " 4 3 8 3 8 4 2 3 6 4 2 1 4 7 0 8 1 3 7 7 0 9 8 3 4 1 7 8 2 4 1 2 8 5 4 6 7\n",
            " 1 3 5 5 7 6 1 7 9 2 3 8 1 8 5 1 6 6 3 1 0 0 4 9 4 4 4 9 8 3 9 4 2 0 4 7 6\n",
            " 1 8 2 8 1 0 4 3 3 4 8 3 4 8 2 6 0 2 4 4 2 2 1 2 9 4 9 9 1 7 6 2 5 7 1 9 8\n",
            " 8 3 1 9 8 3 4 9 6 8 3 3 1 9 6 4 3 0 2 1 3 2 2 7 0 9 2 6 9 4 9 1 6 9 3 6 2\n",
            " 8 6 7 0 3 7 6 2 4 5 8 0 4 5 3 2 5 1 7 3 1 3 0 3 3 4 2 9 5 4 7 9 0 8 4 6 5\n",
            " 7 9 1 4 3 7 5 1 4 0 1 1 8 4 1 9 6 3 7 4 5 5 7 2 3 5 5 0 1 8 7 1 1 4 9 7 0\n",
            " 4 8 0 4 3 5 2 0 0 9 4 6 9 3 9 3 3 0 0 1 9 4 6 5 9 0 3 5 8 2 9 3 6 4 9 0 2\n",
            " 2 0 2 8 0 5 3 4 1 6 7 1 0 5 8 6 6 8 3 7 5 0 2 0 3 0 8 5 0 7 0 9 5 5 2 5 3\n",
            " 3 9 8 1 7 7 2 4 3 3 8 1 6 0 8 9 5 6 0 6 5 9 1 7 1 8 1 2 9 3 6 3 8 3 0 0 3\n",
            " 9 3 1 6 1 5 5 8 9 8 3 6 8 9 3 7 9 3 6 0 9 0 1 9 6 1 7 7 9 5 3 0 7 7 1 4 2\n",
            " 7 5 1 5 5 6 2 8 0 0 5 5 3 7 4 1 7 4 8 1 7 4 4 1 1 1 7 5 8 1 5 3 0 1 9 4 3\n",
            " 5 6 9 1 8 5 2 7 8 5 0 5 6 0 8 8 7 7 6 7 7 7 9 1 8 1 9 5 0 7 9 2 1 5 5 6 9\n",
            " 7 2 2 1 2 6 5 1 2 1 7 2 9 1 0 9 8 8 0 3 8 5 3 2 1 2 3 8 2 2 2 4 0 0 8 6 0\n",
            " 4 7 9 3 8 4 0 9 5 7 5 1 3 0 2 3 1 5 2 9 5 0 1 2 3 5 3 2 4 5 9 5 7 5 2 1 2\n",
            " 3 9 2 3 7 5 8 6 4 6 7 7 0 3 9 7 3 1 1 9 9 8 9 8 0 9 0 1 1 1 5 4 7 1 5 5 5\n",
            " 4 9 1 9 2 1 1 1 5 8 1 9 8 3 7 6 8 5 9 2 9 7 3 9 4 7 3 1 5 9 6 2 2 2 9 4 9\n",
            " 3 4 4 3 1 1 6 5 6 9 0 1 1 2 9 8 3 7 0 3 8 0 1 2 4 9 8 7 2 9 8 3 2 3 5 3 8\n",
            " 2]\n"
          ]
        },
        {
          "output_type": "execute_result",
          "data": {
            "text/plain": [
              "0.835"
            ]
          },
          "metadata": {},
          "execution_count": 43
        }
      ]
    },
    {
      "cell_type": "code",
      "source": [],
      "metadata": {
        "id": "I7sIShK-Dire"
      },
      "execution_count": null,
      "outputs": []
    }
  ]
}